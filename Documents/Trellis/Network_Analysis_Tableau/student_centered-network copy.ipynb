{
 "cells": [
  {
   "cell_type": "markdown",
   "id": "0877a606",
   "metadata": {},
   "source": [
    "# install simple salesforce"
   ]
  },
  {
   "cell_type": "code",
   "execution_count": null,
   "id": "6d2ed0a4",
   "metadata": {},
   "outputs": [],
   "source": [
    "#pip install simple_salesforce\n",
    "# pip install \"dask[complete]\""
   ]
  },
  {
   "cell_type": "code",
   "execution_count": 1,
   "id": "240e05eb",
   "metadata": {},
   "outputs": [
    {
     "name": "stdout",
     "output_type": "stream",
     "text": [
      "Requirement already satisfied: networkx in /Users/jungmeepark/opt/anaconda3/lib/python3.9/site-packages (2.8.4)\n",
      "Requirement already satisfied: numpy in /Users/jungmeepark/opt/anaconda3/lib/python3.9/site-packages (1.21.5)\n",
      "Requirement already satisfied: pandas in /Users/jungmeepark/opt/anaconda3/lib/python3.9/site-packages (1.4.4)\n",
      "Requirement already satisfied: python-dateutil>=2.8.1 in /Users/jungmeepark/opt/anaconda3/lib/python3.9/site-packages (from pandas) (2.8.2)\n",
      "Requirement already satisfied: pytz>=2020.1 in /Users/jungmeepark/opt/anaconda3/lib/python3.9/site-packages (from pandas) (2022.1)\n",
      "Requirement already satisfied: numpy>=1.18.5 in /Users/jungmeepark/opt/anaconda3/lib/python3.9/site-packages (from pandas) (1.21.5)\n",
      "Requirement already satisfied: six>=1.5 in /Users/jungmeepark/opt/anaconda3/lib/python3.9/site-packages (from python-dateutil>=2.8.1->pandas) (1.16.0)\n"
     ]
    }
   ],
   "source": [
    "#Prerequisites\n",
    "\n",
    "import sys\n",
    "!{sys.executable} -m pip install --user networkx\n",
    "!{sys.executable} -m pip install --user numpy\n",
    "!{sys.executable} -m pip install --user pandas\n",
    "\n",
    "import networkx as nx\n",
    "import numpy as np\n",
    "import pandas as pd\n",
    "import os\n",
    "import matplotlib.pyplot as plt\n",
    "import requests\n",
    "import csv\n",
    "import glob\n",
    "import scipy.sparse\n",
    "\n",
    "from simple_salesforce import Salesforce\n",
    "from io import StringIO\n",
    "from pandas import DataFrame"
   ]
  },
  {
   "cell_type": "code",
   "execution_count": null,
   "id": "a8d9ff48",
   "metadata": {},
   "outputs": [],
   "source": [
    "#sf = Salesforce(username='',password='', security_token='')"
   ]
  },
  {
   "cell_type": "markdown",
   "id": "c9b30354",
   "metadata": {
    "scrolled": true
   },
   "source": [
    "sf_instance = 'https://ua-trellis.lightning.force.com/' #Your Salesforce Instance URL\n",
    "reportId = '00O6R000008QxpyUAC' # add report id\n",
    "export = '?isdtp=p1&export=1&enc=UTF-8&xf=csv'\n",
    "sfUrl = sf_instance + reportId + export\n",
    "response = requests.get(sfUrl, headers=sf.headers, cookies={'sid': sf.session_id})\n",
    "download_report = response.content.decode('utf-8')\n",
    "df1 = pd.read_csv(StringIO(download_report))"
   ]
  },
  {
   "cell_type": "code",
   "execution_count": null,
   "id": "b9002358",
   "metadata": {},
   "outputs": [],
   "source": [
    "os.getcwd()"
   ]
  },
  {
   "cell_type": "markdown",
   "id": "834baaef",
   "metadata": {},
   "source": [
    "directory = '/Users/jungmeepark/Documents/Trellis/Network_Analysis_Tableau/data/salesforce/'\n",
    "\n",
    "for file_name in glob.glob(directory+'*.csv'):\n",
    "    x = np.genfromtxt(file_name,delimiter=',')[:,2]\n",
    "    # do your calculations\n"
   ]
  },
  {
   "cell_type": "markdown",
   "id": "df214f5f",
   "metadata": {},
   "source": [
    "# Define the directory path\n",
    "as /Users/jungmeepark/Documents/Trellis/Network_Analysis_Tableau/data/salesforce\n",
    "directory = '/Users/jungmeepark/Documents/Trellis/Network_Analysis_Tableau/data/salesforce/'\n",
    "\n",
    "# Get a list of all files in the directory\n",
    "files = os.listdir(directory)\n",
    "\n",
    "# Filter out only the CSV files\n",
    "csv_files = [file for file in files if file.endswith('.csv')]\n",
    "\n",
    "# Loop through each CSV file and read it\n",
    "for file in csv_files:\n",
    "    file_path = os.path.join(directory, file)\n",
    "    df = pd.read_csv(file_path)\n",
    "    # Now you can work with the DataFrame 'df' for each CSV file\n",
    "    print(\"Loaded:\", file)\n",
    "\n"
   ]
  },
  {
   "cell_type": "code",
   "execution_count": 2,
   "id": "69307eb5",
   "metadata": {},
   "outputs": [
    {
     "name": "stderr",
     "output_type": "stream",
     "text": [
      "/var/folders/wr/p82k0vm11j17r80bp7wf3swc0000gs/T/ipykernel_4374/1685324456.py:4: DtypeWarning: Columns (5,7) have mixed types. Specify dtype option on import or set low_memory=False.\n",
      "  cases_report_SF = pd.read_csv('~/Documents/Trellis/Network_Analysis_Tableau/data/salesforce/POC_Network_Cases_May20_2024.csv')\n"
     ]
    },
    {
     "name": "stdout",
     "output_type": "stream",
     "text": [
      "                         Appointment Name  Case Number Case Detail Name  \\\n",
      "140102               5/6/2024 - Fred Wang    2717666.0       CD-1539535   \n",
      "140103              5/16/2024 - Yao Zhang    2732929.0       CD-1542995   \n",
      "140104          5/16/2024 - Meghan Winter    2733765.0       CD-1543288   \n",
      "140105          5/17/2024 - Dionna Dudley    2734932.0       CD-1543618   \n",
      "140106  5/16/2024 - Zachary Tyler Burnham    2733669.0       CD-1543247   \n",
      "\n",
      "        Owner: Owner ID  Contact EmplID          Case ID Appointment Date  \\\n",
      "140102  0053n000007rpyv      23968477.0  5006R00001wh0Mq           5/6/24   \n",
      "140103  0053n0000051PtI      23969130.0  5006R00001zhVcZ          5/16/24   \n",
      "140104  0053n0000051PtI      23969140.0  5006R00001zhYzg          5/16/24   \n",
      "140105  0053n000007rsaJ      23969277.0  5006R00001zhk7i          5/17/24   \n",
      "140106  0052S000009wsVu      23969880.0  5006R00001zhYlZ          5/16/24   \n",
      "\n",
      "         Advisor Name  Plan/Subplan: CPP Info Name             Advisor Email  \n",
      "140102   Chelsea Burk                          NaN        cmburk@arizona.edu  \n",
      "140103  Sofia Meckler                          NaN  sofiameckler@arizona.edu  \n",
      "140104  Sofia Meckler                          NaN  sofiameckler@arizona.edu  \n",
      "140105  Mercedes Luna                          NaN        mtluna@arizona.edu  \n",
      "140106    Heidi Creel                          NaN        heidim@arizona.edu  \n"
     ]
    }
   ],
   "source": [
    "# Read in Source File - NB this must match the schema requirements\n",
    "# read in data\n",
    "# /Users/jungmeepark/Documents/Trellis/Network_Analysis_Tableau/data/salesforce\n",
    "cases_report_SF = pd.read_csv('~/Documents/Trellis/Network_Analysis_Tableau/data/salesforce/POC_Network_Cases_May20_2024.csv')\n",
    "initial_report_SF = pd.read_csv(\"~/Documents/Trellis/Network_Analysis_Tableau/data/salesforce/Appointments_May20_2024.csv\")\n",
    "#CodeType = 'latin1' # https://docs.python.org/3/library/codecs.html#standard-encodings\n",
    "print(initial_report_SF.tail())\n"
   ]
  },
  {
   "cell_type": "code",
   "execution_count": null,
   "id": "12de2349",
   "metadata": {},
   "outputs": [],
   "source": [
    "value_counts = cases_report_SF['Case Record Type'].value_counts()\n",
    "print(\"Value Counts:\\n\", value_counts)\n",
    "\n",
    "# Count the number of unique values\n",
    "unique_count = cases_report_SF['Case Record Type'].nunique()\n",
    "print(\"Number of unique Case Record Types:\", unique_count)\n"
   ]
  },
  {
   "cell_type": "code",
   "execution_count": null,
   "id": "884a02aa",
   "metadata": {},
   "outputs": [],
   "source": [
    "datatypes = initial_report_SF.dtypes \n",
    "datatypes"
   ]
  },
  {
   "cell_type": "code",
   "execution_count": 3,
   "id": "d8eb0d15",
   "metadata": {},
   "outputs": [],
   "source": [
    "initial_report_SF = initial_report_SF[['Owner: Owner ID', 'Appointment Name','Contact EmplID', 'Appointment Date', 'Advisor Name', 'Advisor Email', 'Case ID']]"
   ]
  },
  {
   "cell_type": "code",
   "execution_count": 4,
   "id": "7130234f",
   "metadata": {},
   "outputs": [],
   "source": [
    "initial_report_SF['Contact EmplID'] = initial_report_SF['Contact EmplID'].astype(object)"
   ]
  },
  {
   "cell_type": "code",
   "execution_count": null,
   "id": "f0fe62de",
   "metadata": {},
   "outputs": [],
   "source": [
    "datatypes = cases_report_SF.dtypes \n",
    "datatypes"
   ]
  },
  {
   "cell_type": "code",
   "execution_count": 5,
   "id": "c90f8f7a",
   "metadata": {},
   "outputs": [],
   "source": [
    "cases_report_SF = cases_report_SF[['Department', 'Contact: Email', 'Emplid', 'Case Record Type']]"
   ]
  },
  {
   "cell_type": "code",
   "execution_count": null,
   "id": "6c3c3dc4",
   "metadata": {},
   "outputs": [],
   "source": []
  },
  {
   "cell_type": "code",
   "execution_count": 6,
   "id": "17735b7b",
   "metadata": {},
   "outputs": [
    {
     "data": {
      "text/plain": [
       "(335797, 4)"
      ]
     },
     "execution_count": 6,
     "metadata": {},
     "output_type": "execute_result"
    }
   ],
   "source": [
    "# Filter out rows where case record type and department is NA or empty\n",
    "#cases_report_SF = cases_report_SF.dropna(subset=['Case Record Type', 'Department'])\n",
    "cases_report_SF = cases_report_SF.dropna(subset=['Case Record Type'])\n",
    "cases_report_SF.shape"
   ]
  },
  {
   "cell_type": "code",
   "execution_count": 7,
   "id": "db7a8e27",
   "metadata": {},
   "outputs": [
    {
     "data": {
      "text/plain": [
       "(63568, 7)"
      ]
     },
     "execution_count": 7,
     "metadata": {},
     "output_type": "execute_result"
    }
   ],
   "source": [
    "# Filter out rows where `Case ID` or `Contact EmplID` is NA or empty\n",
    "initial_report_SF = initial_report_SF.dropna(subset=['Case ID', 'Contact EmplID'])\n",
    "initial_report_SF.shape\n",
    "\n",
    "\n",
    "#cases_report_SF = cases_report_SF[\n",
    " #   (~cases_report_SF['Department'].isna()) | (cases_report_SF['Department'] != \"\")\n",
    "#]\n"
   ]
  },
  {
   "cell_type": "code",
   "execution_count": 8,
   "id": "1027f58c",
   "metadata": {},
   "outputs": [],
   "source": [
    "# trim down the cases to make the merge possible\n",
    "initial_report_SF = initial_report_SF[\n",
    "    (~initial_report_SF['Case ID'].isna()) | (initial_report_SF['Case ID'] != \"\")\n",
    "]\n",
    "\n",
    "initial_report_SF = initial_report_SF[\n",
    "    (~initial_report_SF['Contact EmplID'].isna()) | (initial_report_SF['Contact EmplID'] != \"\")\n",
    "]\n",
    "\n",
    "cases_report_SF = cases_report_SF[\n",
    "    (~cases_report_SF['Case Record Type'].isna()) | (cases_report_SF['Case Record Type'] != \"\")\n",
    "]\n"
   ]
  },
  {
   "cell_type": "code",
   "execution_count": 9,
   "id": "a2e7926e",
   "metadata": {},
   "outputs": [],
   "source": [
    "# Convert 'Appointment Date' column to datetime\n",
    "initial_report_SF['AppointmentDate'] = pd.to_datetime(initial_report_SF['Appointment Date'])\n",
    "\n",
    "# Calculate today's date\n",
    "today = pd.to_datetime('today').normalize()\n",
    "initial_report_SF['today'] = today\n",
    "\n",
    "# Calculate days since 'AppointmentDate'\n",
    "initial_report_SF['days_since'] = (initial_report_SF['today'] - initial_report_SF['AppointmentDate']).dt.days"
   ]
  },
  {
   "cell_type": "code",
   "execution_count": 10,
   "id": "b35e7de0",
   "metadata": {},
   "outputs": [
    {
     "name": "stdout",
     "output_type": "stream",
     "text": [
      "       Owner: Owner ID                 Appointment Name Contact EmplID  \\\n",
      "76541  0052S000009wYBf         5/17/2024 - Paul Kareiva       451298.0   \n",
      "76545  0053n000008M1Rp        3/27/2024 - Adam Goldberg       532541.0   \n",
      "76551  0053n000007kjY3  1/5/2024 - Ayse Parker-Lampkins       539785.0   \n",
      "76553  0052S00000ARmND       3/12/2024 - Cindy Williams       540251.0   \n",
      "76557  0053n000007d5uo         4/5/2024 - Julie McGuire       599802.0   \n",
      "\n",
      "      Appointment Date          Advisor Name           Advisor Email  \\\n",
      "76541          5/17/24           Devyn Royal  devynroyal@arizona.edu   \n",
      "76545          3/27/24          Nicole Chain      nchain@arizona.edu   \n",
      "76551           1/5/24            Neti Gupta       netig@arizona.edu   \n",
      "76553          3/12/24     Christina Hornett    chornett@arizona.edu   \n",
      "76557           4/5/24  Emily Burruel Bonney    eburruel@arizona.edu   \n",
      "\n",
      "               Case ID AppointmentDate      today  days_since  \n",
      "76541  5006R00001zhlW3      2024-05-17 2024-05-21           4  \n",
      "76545  5006R00001zBx1N      2024-03-27 2024-05-21          55  \n",
      "76551  5006R00001yHjSf      2024-01-05 2024-05-21         137  \n",
      "76553  5006R00001z9Jjf      2024-03-12 2024-05-21          70  \n",
      "76557  5006R00001zLp2O      2024-04-05 2024-05-21          46  \n"
     ]
    }
   ],
   "source": [
    "# filter dates to 2024\n",
    "#filtered_df[(filtered_df['date']>datetime.date(2024,1,1)) & (filtered_df['date']<datetime.date(2024,5,5))]\n",
    "initial_report_SF = initial_report_SF[(initial_report_SF['AppointmentDate'] > \"2024-01-01\") & (initial_report_SF['AppointmentDate'] < \"2024-07-01\")]\n",
    "# Display the updated DataFrame\n",
    "print(initial_report_SF.head())"
   ]
  },
  {
   "cell_type": "markdown",
   "id": "7fe41e51",
   "metadata": {},
   "source": [
    "# trim down the cases to make the merge possible\n",
    "cases_report_SF = cases_report_SF[\n",
    "    (~cases_report_SF['Case Record Type'].isna()) | (cases_report_SF['Case Record Type'] != \"\")\n",
    "]\n",
    "\n",
    "cases_report_SF = cases_report_SF[\n",
    "    (~cases_report_SF['Department'].isna()) | (cases_report_SF['Department'] != \"\")\n",
    "]\n"
   ]
  },
  {
   "cell_type": "code",
   "execution_count": null,
   "id": "fc1ae702",
   "metadata": {},
   "outputs": [],
   "source": [
    "value_counts = cases_report_SF['Case Record Type'].value_counts()\n",
    "print(\"Value Counts:\\n\", value_counts)\n",
    "\n",
    "# Count the number of unique values\n",
    "unique_count = cases_report_SF['Case Record Type'].nunique()\n",
    "print(\"Number of unique Case Record Types:\", unique_count)\n"
   ]
  },
  {
   "cell_type": "code",
   "execution_count": 11,
   "id": "68ae4d43",
   "metadata": {},
   "outputs": [],
   "source": [
    "# Merge the DataFrames\n",
    "filtered_df = pd.merge(cases_report_SF, initial_report_SF, how='left', left_on='Emplid', right_on='Contact EmplID')\n",
    "#filtered_df = pd.concat(cases_report_SF, initial_report_SF, how='left', left_on='Emplid', right_on='Contact EmplID')\n"
   ]
  },
  {
   "cell_type": "code",
   "execution_count": 12,
   "id": "4caf7401",
   "metadata": {},
   "outputs": [
    {
     "name": "stdout",
     "output_type": "stream",
     "text": [
      "Value Counts:\n",
      " Note       260847\n",
      "Service    210850\n",
      "Name: Case Record Type, dtype: int64\n",
      "Number of unique Case Record Types: 2\n"
     ]
    }
   ],
   "source": [
    "value_counts = filtered_df['Case Record Type'].value_counts()\n",
    "print(\"Value Counts:\\n\", value_counts)\n",
    "\n",
    "# Count the number of unique values\n",
    "unique_count = filtered_df['Case Record Type'].nunique()\n",
    "print(\"Number of unique Case Record Types:\", unique_count)\n"
   ]
  },
  {
   "cell_type": "code",
   "execution_count": null,
   "id": "817f3554",
   "metadata": {},
   "outputs": [],
   "source": [
    "filtered_df.shape"
   ]
  },
  {
   "cell_type": "code",
   "execution_count": null,
   "id": "c0461243",
   "metadata": {},
   "outputs": [],
   "source": [
    "# Filter out rows where `Case ID` or `Contact EmplID` is NA or empty\n",
    "#filtered_df = merged_df.dropna(subset=['Case Number', 'Case ID', 'Contact EmplID'])\n",
    "#initial_report_SF = initial_report_SF[(~initial_report_SF['Case ID'].isna()) | (initial_report_SF['Case ID'] != \"\")]\n",
    "#initial_report_SF = initial_report_SF[(~initial_report_SF['Contact EmplID'].isna()) | (initial_report_SF['Contact EmplID'] != \"\")]\n",
    "#print(filtered_df.head())"
   ]
  },
  {
   "cell_type": "markdown",
   "id": "c1942824",
   "metadata": {
    "scrolled": true
   },
   "source": [
    "# create new emplID's\n",
    "# Extract unique IDs\n",
    "unique_ids = filtered_df['Contact EmplID'].unique()\n",
    "\n",
    "# Generate new IDs (random IDs)\n",
    "np.random.seed(53013)  # for reproducibility\n",
    "new_ids = np.random.randint(1000, 9999, len(unique_ids))\n",
    "\n",
    "# Create a dictionary to map old IDs to new IDs\n",
    "id_mapping = dict(zip(unique_ids, new_ids))\n",
    "\n",
    "id_mapping\n",
    "#filtered_df_newID=filtered_df.append(id_mapping,ignore_index=True)\n"
   ]
  },
  {
   "cell_type": "markdown",
   "id": "8cf49977",
   "metadata": {},
   "source": [
    "#filtered_df['Contact EmplID'].map(id_mapping)  \n",
    "filtered_df['New_ID'] = filtered_df['Contact EmplID'].map(id_mapping)"
   ]
  },
  {
   "cell_type": "code",
   "execution_count": 13,
   "id": "8609cdcc",
   "metadata": {},
   "outputs": [
    {
     "name": "stdout",
     "output_type": "stream",
     "text": [
      "Index(['Department', 'Contact: Email', 'Emplid', 'Case Record Type',\n",
      "       'Owner: Owner ID', 'Appointment Name', 'Contact EmplID',\n",
      "       'Appointment Date', 'Advisor Name', 'Advisor Email', 'Case ID',\n",
      "       'AppointmentDate', 'today', 'days_since'],\n",
      "      dtype='object')\n"
     ]
    }
   ],
   "source": [
    "# Get variable names (column names) of the DataFrame\n",
    "variable_names = filtered_df.columns\n",
    "\n",
    "print(variable_names)"
   ]
  },
  {
   "cell_type": "code",
   "execution_count": 14,
   "id": "168918e1",
   "metadata": {},
   "outputs": [
    {
     "name": "stdout",
     "output_type": "stream",
     "text": [
      "  Department        Contact: Email      Emplid Case Record Type  \\\n",
      "0        NaN  gurreetk@arizona.edu  23729489.0             Note   \n",
      "1        NaN  gurreetk@arizona.edu  23729489.0             Note   \n",
      "2        NaN  gurreetk@arizona.edu  23729489.0             Note   \n",
      "3        NaN  gurreetk@arizona.edu  23729489.0             Note   \n",
      "4        NaN  gurreetk@arizona.edu  23729489.0             Note   \n",
      "\n",
      "   Owner: Owner ID          Appointment Name Contact EmplID Appointment Date  \\\n",
      "0  0053n000008M1zC  1/26/2024 - Gurreet Kaur     23729489.0          1/26/24   \n",
      "1  0053n000008PYSV   4/5/2024 - Gurreet Kaur     23729489.0           4/5/24   \n",
      "2  0052S000009vjSz   1/3/2024 - Gurreet Kaur     23729489.0           1/3/24   \n",
      "3  0052S000009vjSN   1/4/2024 - Gurreet Kaur     23729489.0           1/4/24   \n",
      "4  0052S000009vjSN  3/13/2024 - Gurreet Kaur     23729489.0          3/13/24   \n",
      "\n",
      "       Advisor Name             Advisor Email          Case ID  \\\n",
      "0  Katarina Riesing      kriesing@arizona.edu  5006R00001ykp0p   \n",
      "1     Chester White  chesterwhite@arizona.edu  5006R00001zLrEM   \n",
      "2      Justin Betts       jcbetts@arizona.edu  5006R00001yHNGS   \n",
      "3   Michael Greeley       greeley@arizona.edu  5006R00001yHrXl   \n",
      "4   Michael Greeley       greeley@arizona.edu  5006R00001z9csL   \n",
      "\n",
      "  AppointmentDate      today  days_since  Student Name  \n",
      "0      2024-01-26 2024-05-21       116.0  Gurreet Kaur  \n",
      "1      2024-04-05 2024-05-21        46.0  Gurreet Kaur  \n",
      "2      2024-01-03 2024-05-21       139.0  Gurreet Kaur  \n",
      "3      2024-01-04 2024-05-21       138.0  Gurreet Kaur  \n",
      "4      2024-03-13 2024-05-21        69.0  Gurreet Kaur  \n"
     ]
    }
   ],
   "source": [
    "# create a new column to extract the names\n",
    "# Extract just the names\n",
    "filtered_df['Student Name'] = filtered_df['Appointment Name'].str.split(' - ', expand=True)[1]\n",
    "\n",
    "# Display the updated DataFrame\n",
    "print(filtered_df.head())"
   ]
  },
  {
   "cell_type": "code",
   "execution_count": 15,
   "id": "a9c4f3f2",
   "metadata": {},
   "outputs": [],
   "source": [
    "# Split the 'Student Name' column into 'First Name' and 'Last Name' columns\n",
    "filtered_df[['Student_First_Name', 'Student_Last_Name']] = filtered_df['Student Name'].str.split(' ', 1, expand=True)\n"
   ]
  },
  {
   "cell_type": "code",
   "execution_count": null,
   "id": "49406f8b",
   "metadata": {},
   "outputs": [],
   "source": [
    "# Get variable names (column names) of the DataFrame\n",
    "variable_names = filtered_df.columns\n",
    "\n",
    "print(variable_names)"
   ]
  },
  {
   "cell_type": "code",
   "execution_count": 16,
   "id": "a52aca32",
   "metadata": {},
   "outputs": [],
   "source": [
    "# add an index column\n",
    "\n",
    "filtered_df['index'] = range(1, len(filtered_df) + 1)\n",
    "#filtered_df['index'] = filtered_df.index\n",
    "\n",
    "# Display the updated DataFrame\n",
    "#print(filtered_df.head())"
   ]
  },
  {
   "cell_type": "code",
   "execution_count": 17,
   "id": "0476093f",
   "metadata": {},
   "outputs": [
    {
     "name": "stdout",
     "output_type": "stream",
     "text": [
      "  Department        Contact: Email      Emplid Case Record Type  \\\n",
      "0        NaN  gurreetk@arizona.edu  23729489.0             Note   \n",
      "1        NaN  gurreetk@arizona.edu  23729489.0             Note   \n",
      "2        NaN  gurreetk@arizona.edu  23729489.0             Note   \n",
      "3        NaN  gurreetk@arizona.edu  23729489.0             Note   \n",
      "4        NaN  gurreetk@arizona.edu  23729489.0             Note   \n",
      "\n",
      "   Owner: Owner ID          Appointment Name Contact EmplID Appointment Date  \\\n",
      "0  0053n000008M1zC  1/26/2024 - Gurreet Kaur     23729489.0          1/26/24   \n",
      "1  0053n000008PYSV   4/5/2024 - Gurreet Kaur     23729489.0           4/5/24   \n",
      "2  0052S000009vjSz   1/3/2024 - Gurreet Kaur     23729489.0           1/3/24   \n",
      "3  0052S000009vjSN   1/4/2024 - Gurreet Kaur     23729489.0           1/4/24   \n",
      "4  0052S000009vjSN  3/13/2024 - Gurreet Kaur     23729489.0          3/13/24   \n",
      "\n",
      "       Advisor Name             Advisor Email          Case ID  \\\n",
      "0  Katarina Riesing      kriesing@arizona.edu  5006R00001ykp0p   \n",
      "1     Chester White  chesterwhite@arizona.edu  5006R00001zLrEM   \n",
      "2      Justin Betts       jcbetts@arizona.edu  5006R00001yHNGS   \n",
      "3   Michael Greeley       greeley@arizona.edu  5006R00001yHrXl   \n",
      "4   Michael Greeley       greeley@arizona.edu  5006R00001z9csL   \n",
      "\n",
      "  AppointmentDate      today  days_since  Student Name Student_First_Name  \\\n",
      "0      2024-01-26 2024-05-21       116.0  Gurreet Kaur            Gurreet   \n",
      "1      2024-04-05 2024-05-21        46.0  Gurreet Kaur            Gurreet   \n",
      "2      2024-01-03 2024-05-21       139.0  Gurreet Kaur            Gurreet   \n",
      "3      2024-01-04 2024-05-21       138.0  Gurreet Kaur            Gurreet   \n",
      "4      2024-03-13 2024-05-21        69.0  Gurreet Kaur            Gurreet   \n",
      "\n",
      "  Student_Last_Name  index  Source  \n",
      "0              Kaur      1    6003  \n",
      "1              Kaur      2    6003  \n",
      "2              Kaur      3    6003  \n",
      "3              Kaur      4    6003  \n",
      "4              Kaur      5    6003  \n"
     ]
    }
   ],
   "source": [
    "# create a source column\n",
    "filtered_df['Source'] = filtered_df.groupby(['Student Name']).ngroup()\n",
    "\n",
    "# Display the updated DataFrame\n",
    "print(filtered_df.head())"
   ]
  },
  {
   "cell_type": "code",
   "execution_count": 18,
   "id": "ab1ee3c8",
   "metadata": {},
   "outputs": [],
   "source": [
    "filtered_df['Target'] = filtered_df.groupby(['Advisor Name']).ngroup()"
   ]
  },
  {
   "cell_type": "code",
   "execution_count": 19,
   "id": "0bfda856",
   "metadata": {},
   "outputs": [],
   "source": [
    "filtered_df = filtered_df.rename(columns={'Owner: Owner ID': 'owner_id'})"
   ]
  },
  {
   "cell_type": "code",
   "execution_count": null,
   "id": "f3f68c94",
   "metadata": {},
   "outputs": [],
   "source": [
    "filtered_df.info()"
   ]
  },
  {
   "cell_type": "code",
   "execution_count": 20,
   "id": "e33a8f0b",
   "metadata": {},
   "outputs": [],
   "source": [
    "filtered_df['Source'] = filtered_df['Source'].map(str)\n",
    "filtered_df['Target'] = filtered_df['Target'].map(str)"
   ]
  },
  {
   "cell_type": "code",
   "execution_count": 21,
   "id": "8bb7cae7",
   "metadata": {},
   "outputs": [],
   "source": [
    "# Add directions to d3\n",
    "filtered_df['Direction'] = filtered_df['Source'] + ' -> ' + filtered_df['Target']"
   ]
  },
  {
   "cell_type": "code",
   "execution_count": 22,
   "id": "276b9e9e",
   "metadata": {},
   "outputs": [
    {
     "name": "stdout",
     "output_type": "stream",
     "text": [
      "<class 'pandas.core.frame.DataFrame'>\n",
      "Int64Index: 471697 entries, 0 to 471696\n",
      "Data columns (total 21 columns):\n",
      " #   Column              Non-Null Count   Dtype         \n",
      "---  ------              --------------   -----         \n",
      " 0   Department          210792 non-null  object        \n",
      " 1   Contact: Email      442705 non-null  object        \n",
      " 2   Emplid              438176 non-null  object        \n",
      " 3   Case Record Type    471697 non-null  object        \n",
      " 4   owner_id            214006 non-null  object        \n",
      " 5   Appointment Name    214006 non-null  object        \n",
      " 6   Contact EmplID      214006 non-null  object        \n",
      " 7   Appointment Date    214006 non-null  object        \n",
      " 8   Advisor Name        214006 non-null  object        \n",
      " 9   Advisor Email       214006 non-null  object        \n",
      " 10  Case ID             214006 non-null  object        \n",
      " 11  AppointmentDate     214006 non-null  datetime64[ns]\n",
      " 12  today               214006 non-null  datetime64[ns]\n",
      " 13  days_since          214006 non-null  float64       \n",
      " 14  Student Name        214006 non-null  object        \n",
      " 15  Student_First_Name  214006 non-null  object        \n",
      " 16  Student_Last_Name   214006 non-null  object        \n",
      " 17  index               471697 non-null  int64         \n",
      " 18  Source              471697 non-null  object        \n",
      " 19  Target              471697 non-null  object        \n",
      " 20  Direction           471697 non-null  object        \n",
      "dtypes: datetime64[ns](2), float64(1), int64(1), object(17)\n",
      "memory usage: 79.2+ MB\n"
     ]
    }
   ],
   "source": [
    "filtered_df.info()"
   ]
  },
  {
   "cell_type": "code",
   "execution_count": 24,
   "id": "d919b4df",
   "metadata": {},
   "outputs": [],
   "source": [
    "# Group by 'NAME' and check if any row within the group has a non-null 'DEPARTMENT'\n",
    "grouped = filtered_df.groupby('Advisor Name')['Department'].transform('first')\n",
    "# Impute the 'DEPARTMENT' value within each group\n",
    "filtered_df['Department'] = filtered_df['Department'].fillna(grouped)"
   ]
  },
  {
   "cell_type": "code",
   "execution_count": 44,
   "id": "56aff70a",
   "metadata": {},
   "outputs": [
    {
     "name": "stdout",
     "output_type": "stream",
     "text": [
      "<class 'pandas.core.frame.DataFrame'>\n",
      "Int64Index: 471697 entries, 0 to 471696\n",
      "Data columns (total 21 columns):\n",
      " #   Column              Non-Null Count   Dtype         \n",
      "---  ------              --------------   -----         \n",
      " 0   Department          399373 non-null  object        \n",
      " 1   Contact: Email      442705 non-null  object        \n",
      " 2   Emplid              438176 non-null  object        \n",
      " 3   Case Record Type    471697 non-null  object        \n",
      " 4   owner_id            214006 non-null  object        \n",
      " 5   Appointment Name    214006 non-null  object        \n",
      " 6   Contact EmplID      214006 non-null  object        \n",
      " 7   Appointment Date    214006 non-null  object        \n",
      " 8   Advisor Name        214006 non-null  object        \n",
      " 9   Advisor Email       214006 non-null  object        \n",
      " 10  Case ID             214006 non-null  object        \n",
      " 11  AppointmentDate     214006 non-null  datetime64[ns]\n",
      " 12  today               214006 non-null  datetime64[ns]\n",
      " 13  days_since          214006 non-null  float64       \n",
      " 14  Student Name        214006 non-null  object        \n",
      " 15  Student_First_Name  214006 non-null  object        \n",
      " 16  Student_Last_Name   214006 non-null  object        \n",
      " 17  index               471697 non-null  int64         \n",
      " 18  Source              471697 non-null  object        \n",
      " 19  Target              471697 non-null  object        \n",
      " 20  Direction           471697 non-null  object        \n",
      "dtypes: datetime64[ns](2), float64(1), int64(1), object(17)\n",
      "memory usage: 79.2+ MB\n"
     ]
    }
   ],
   "source": [
    "filtered_df.info()"
   ]
  },
  {
   "cell_type": "code",
   "execution_count": 28,
   "id": "1a40d817",
   "metadata": {},
   "outputs": [],
   "source": [
    "# FOLLOWING KNIPPENBERG\n",
    "\n",
    "# Save the DataFrame to a CSV file\n",
    "\n",
    "filtered_df.to_csv('~/Documents/Trellis/Network_Analysis_Tableau/data/generated_from_knipp/py-filtered_merged_df_May21_2024.csv', index=False)  # Set index=False to exclude the index from the CSV file\n"
   ]
  },
  {
   "cell_type": "code",
   "execution_count": null,
   "id": "57849b93",
   "metadata": {},
   "outputs": [],
   "source": [
    "#reduced_df = filtered_df.sample(n=300)"
   ]
  },
  {
   "cell_type": "code",
   "execution_count": 26,
   "id": "ee0401cc",
   "metadata": {},
   "outputs": [],
   "source": [
    "arr_SrcTgt = np.array(filtered_df[['Source','Target']])"
   ]
  },
  {
   "cell_type": "code",
   "execution_count": 35,
   "id": "dce653a4",
   "metadata": {},
   "outputs": [],
   "source": [
    "# Create Network Graph Coordinates...\n",
    "Q = nx.MultiDiGraph()\n",
    "Q.add_edges_from(arr_SrcTgt)\n",
    "dict_Coords = nx.spring_layout(Q) \n"
   ]
  },
  {
   "cell_type": "code",
   "execution_count": null,
   "id": "46e4de48",
   "metadata": {},
   "outputs": [],
   "source": [
    "# Add edges with \"days-since\" attribute\n",
    "for idx, row in filtered_df.iterrows():\n",
    "    source = row['Source']\n",
    "    target = row['Target']\n",
    "#    interaction_date = datetime.strptime(row['Appointment Date'])\n",
    "    days_since = row['days_since']\n",
    "    Q.add_edge(source, target, days_since)"
   ]
  },
  {
   "cell_type": "code",
   "execution_count": null,
   "id": "cd5c841c",
   "metadata": {},
   "outputs": [],
   "source": []
  },
  {
   "cell_type": "code",
   "execution_count": 36,
   "id": "acbfb035",
   "metadata": {},
   "outputs": [],
   "source": [
    "# Create Graph Coordinates File...\n",
    "df_Raw_Coords = DataFrame(dict_Coords)\n",
    "df_Raw_Coords = df_Raw_Coords.T\n",
    "df_Raw_Coords.columns = ['X','Y']\n",
    "df_Raw_Coords.to_csv('~/Documents/Trellis/Network_Analysis_Tableau/data/generated_from_knipp/CoordsFile_merged_May21_2024.csv', \n",
    "                     index_label='NodeName')\n",
    "#print(df_Raw_Coords)"
   ]
  },
  {
   "cell_type": "code",
   "execution_count": 37,
   "id": "32a0d609",
   "metadata": {},
   "outputs": [],
   "source": [
    "# Create Bridge File... \n",
    "# Tableau Code: IF [Src-Tgt]/2 = ROUND([Src-Tgt]/2) THEN 'Source' ELSE 'Target' END\n",
    "arr_SrcTgt2 = arr_SrcTgt.reshape(1,(len(arr_SrcTgt)*2)) \n",
    "arr_SrcTgt2 = arr_SrcTgt2.reshape(-1) \n",
    "df_SrcTgt = DataFrame(arr_SrcTgt2,columns=['NodeName']) \n",
    "arr_Index = []\n",
    "for i in range(1,(len(arr_SrcTgt)+1)):\n",
    "    arr_Index.append(i)\n",
    "    arr_Index.append(i)\n",
    "df_SrcTgt['c_Index'] = arr_Index \n",
    "\n",
    "df_SrcTgt.to_csv('~/Documents/Trellis/Network_Analysis_Tableau/data/generated_from_knipp/BridgeFile_merged_May21_2024.csv',\n",
    "                 index_label='Src-Tgt')\n",
    "#print(df_ScrTgt.head())"
   ]
  },
  {
   "cell_type": "code",
   "execution_count": null,
   "id": "00f7b873",
   "metadata": {},
   "outputs": [],
   "source": [
    "nx.draw(dict_Coords)\n",
    "plt.show()"
   ]
  },
  {
   "cell_type": "code",
   "execution_count": 34,
   "id": "138708ca",
   "metadata": {},
   "outputs": [
    {
     "data": {
      "image/png": "[encoded data removed]",
      "text/plain": [
       "<Figure size 640x480 with 1 Axes>"
      ]
     },
     "metadata": {},
     "output_type": "display_data"
    }
   ],
   "source": [
    "#nx.draw(Q, pos=nx.spring_layout(Q));\n",
    "nx.draw(Q, pos=nx.spring_layout(Q), with_labels=True, node_size=100, node_color=\"skyblue\", edge_color=\"gray\")\n",
    "plt.show()"
   ]
  },
  {
   "cell_type": "code",
   "execution_count": null,
   "id": "e8618c1a",
   "metadata": {},
   "outputs": [],
   "source": [
    "# betweenness centrality\n",
    "plt.hist(nx.centrality.closeness_centrality(Q).values());"
   ]
  },
  {
   "cell_type": "code",
   "execution_count": 39,
   "id": "86ab9971",
   "metadata": {},
   "outputs": [],
   "source": [
    "# nx.diameter(Q)"
   ]
  },
  {
   "cell_type": "code",
   "execution_count": 40,
   "id": "567c2e21",
   "metadata": {},
   "outputs": [],
   "source": [
    "# nx.cluster.average_clustering(Q)"
   ]
  },
  {
   "cell_type": "code",
   "execution_count": 41,
   "id": "44168ea7",
   "metadata": {},
   "outputs": [
    {
     "data": {
      "image/png": "[encoded data removed]",
      "text/plain": [
       "<Figure size 640x480 with 1 Axes>"
      ]
     },
     "metadata": {},
     "output_type": "display_data"
    }
   ],
   "source": [
    "# degree distribution (a histogram of how many edges each node has)\n",
    "\n",
    "plt.hist([v for k,v in nx.degree(Q)]);"
   ]
  },
  {
   "cell_type": "code",
   "execution_count": 42,
   "id": "0e1825cc",
   "metadata": {},
   "outputs": [
    {
     "data": {
      "image/png": "[encoded data removed]",
      "text/plain": [
       "<Figure size 640x480 with 1 Axes>"
      ]
     },
     "metadata": {},
     "output_type": "display_data"
    }
   ],
   "source": [
    "\n",
    "degrees = [v for k, v in nx.degree(Q)]\n",
    "\n",
    "# Calculate the range of your data\n",
    "min_degree = min(degrees)\n",
    "max_degree = max(degrees)\n",
    "\n",
    "# Calculate the number of bins based on increments of 10\n",
    "num_bins = int((max_degree - min_degree) / 10) + 1\n",
    "\n",
    "# Plot the histogram\n",
    "plt.hist(degrees, bins=num_bins)\n",
    "plt.xlim(0, 200)\n",
    "plt.show()"
   ]
  },
  {
   "cell_type": "code",
   "execution_count": null,
   "id": "58073057",
   "metadata": {},
   "outputs": [],
   "source": [
    "print('Run Completed Successfully')"
   ]
  },
  {
   "cell_type": "code",
   "execution_count": 43,
   "id": "1e33ce41",
   "metadata": {},
   "outputs": [
    {
     "data": {
      "image/png": "[encoded data removed]",
      "text/plain": [
       "<Figure size 640x480 with 1 Axes>"
      ]
     },
     "metadata": {},
     "output_type": "display_data"
    }
   ],
   "source": [
    "degrees = [v for k, v in nx.degree(Q)]\n",
    "\n",
    "# Calculate the range of your data\n",
    "min_degree = min(degrees)\n",
    "max_degree = max(degrees)  # Truncate the maximum degree to 600\n",
    "\n",
    "# Calculate the number of bins based on increments of 5\n",
    "num_bins = int((max_degree - min_degree) / 5) + 1\n",
    "\n",
    "# Plot the histogram\n",
    "plt.hist(degrees, bins=num_bins)\n",
    "plt.xlim(0, 200)  # Set the limit of x-axis from 0 to 600\n",
    "plt.show()"
   ]
  },
  {
   "cell_type": "code",
   "execution_count": null,
   "id": "32145e1d",
   "metadata": {},
   "outputs": [],
   "source": []
  }
 ],
 "metadata": {
  "kernelspec": {
   "display_name": "Python 3 (ipykernel)",
   "language": "python",
   "name": "python3"
  },
  "language_info": {
   "codemirror_mode": {
    "name": "ipython",
    "version": 3
   },
   "file_extension": ".py",
   "mimetype": "text/x-python",
   "name": "python",
   "nbconvert_exporter": "python",
   "pygments_lexer": "ipython3",
   "version": "3.9.13"
  }
 },
 "nbformat": 4,
 "nbformat_minor": 5
}
