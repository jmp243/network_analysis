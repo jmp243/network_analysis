{
 "cells": [
  {
   "cell_type": "code",
   "execution_count": null,
   "id": "240e05eb",
   "metadata": {},
   "outputs": [],
   "source": [
    "#Prerequisites\n",
    "\n",
    "import sys\n",
    "!{sys.executable} -m pip install --user networkx\n",
    "!{sys.executable} -m pip install --user numpy\n",
    "!{sys.executable} -m pip install --user pandas\n",
    "\n",
    "import networkx as nx\n",
    "import numpy as np\n",
    "import pandas as pd\n",
    "import os\n",
    "import matplotlib.pyplot as plt\n",
    "\n",
    "from pandas import DataFrame"
   ]
  },
  {
   "cell_type": "code",
   "execution_count": null,
   "id": "69307eb5",
   "metadata": {},
   "outputs": [],
   "source": [
    "# Read in Source File - NB this must match the schema requirements\n",
    "# read in data\n",
    "initial_report_SF = pd.read_csv(\"~/Documents/Trellis/Network_Analysis_Tableau/data/salesforce/initial-report-SF2.csv\")\n",
    "CodeType = 'latin1' # https://docs.python.org/3/library/codecs.html#standard-encodings\n",
    "print(initial_report_SF.tail())"
   ]
  },
  {
   "cell_type": "code",
   "execution_count": null,
   "id": "884a02aa",
   "metadata": {},
   "outputs": [],
   "source": [
    "# Get variable names (column names) of the DataFrame\n",
    "variable_names = initial_report_SF.columns\n",
    "\n",
    "print(variable_names)"
   ]
  },
  {
   "cell_type": "code",
   "execution_count": null,
   "id": "c0461243",
   "metadata": {},
   "outputs": [],
   "source": [
    "# Filter out rows where `Case ID` or `Contact EmplID` is NA or empty\n",
    "filtered_df = initial_report_SF.dropna(subset=['Case Number', 'Case ID', 'Contact EmplID'])\n",
    "#initial_report_SF = initial_report_SF[(~initial_report_SF['Case ID'].isna()) | (initial_report_SF['Case ID'] != \"\")]\n",
    "#initial_report_SF = initial_report_SF[(~initial_report_SF['Contact EmplID'].isna()) | (initial_report_SF['Contact EmplID'] != \"\")]\n",
    "print(filtered_df.head())"
   ]
  },
  {
   "cell_type": "code",
   "execution_count": null,
   "id": "fc1ae702",
   "metadata": {},
   "outputs": [],
   "source": [
    "# Convert 'Appointment Date' column to datetime\n",
    "filtered_df['AppointmentDate'] = pd.to_datetime(filtered_df['Appointment Date'])\n",
    "\n",
    "# Calculate today's date\n",
    "today = pd.to_datetime('today').normalize()\n",
    "filtered_df['today'] = today\n",
    "\n",
    "# Calculate days since 'AppointmentDate'\n",
    "filtered_df['days_since'] = (filtered_df['today'] - filtered_df['AppointmentDate']).dt.days\n",
    "\n",
    "# filter dates to 2024\n",
    "#filtered_df[(filtered_df['date']>datetime.date(2024,1,1)) & (filtered_df['date']<datetime.date(2024,5,5))]\n",
    "filtered_df = filtered_df[(filtered_df['AppointmentDate'] > \"2024-01-01\") & (filtered_df['AppointmentDate'] < \"2024-07-01\")]\n",
    "# Display the updated DataFrame\n",
    "print(filtered_df.head())"
   ]
  },
  {
   "cell_type": "code",
   "execution_count": null,
   "id": "763288e8",
   "metadata": {
    "scrolled": true
   },
   "outputs": [],
   "source": [
    "# create new emplID's\n",
    "# Extract unique IDs\n",
    "unique_ids = filtered_df['Contact EmplID'].unique()\n",
    "\n",
    "# Generate new IDs (random IDs)\n",
    "np.random.seed(53013)  # for reproducibility\n",
    "new_ids = np.random.randint(1000, 9999, len(unique_ids))\n",
    "\n",
    "# Create a dictionary to map old IDs to new IDs\n",
    "id_mapping = dict(zip(unique_ids, new_ids))\n",
    "\n",
    "id_mapping\n",
    "#filtered_df_newID=filtered_df.append(id_mapping,ignore_index=True)\n"
   ]
  },
  {
   "cell_type": "code",
   "execution_count": null,
   "id": "8609cdcc",
   "metadata": {},
   "outputs": [],
   "source": [
    "# Get variable names (column names) of the DataFrame\n",
    "variable_names = filtered_df.columns\n",
    "\n",
    "print(variable_names)"
   ]
  },
  {
   "cell_type": "code",
   "execution_count": null,
   "id": "6de39194",
   "metadata": {},
   "outputs": [],
   "source": [
    "#filtered_df['Contact EmplID'].map(id_mapping)  \n",
    "filtered_df['New_ID'] = filtered_df['Contact EmplID'].map(id_mapping)"
   ]
  },
  {
   "cell_type": "code",
   "execution_count": null,
   "id": "49406f8b",
   "metadata": {},
   "outputs": [],
   "source": [
    "print(filtered_df.head())"
   ]
  },
  {
   "cell_type": "code",
   "execution_count": null,
   "id": "168918e1",
   "metadata": {},
   "outputs": [],
   "source": [
    "# create a new column to extract the names\n",
    "# Extract just the names\n",
    "filtered_df['Student Name'] = filtered_df['Appointment Name'].str.split(' - ', expand=True)[1]\n",
    "\n",
    "# Display the updated DataFrame\n",
    "print(filtered_df.head())"
   ]
  },
  {
   "cell_type": "code",
   "execution_count": null,
   "id": "a52aca32",
   "metadata": {},
   "outputs": [],
   "source": [
    "# add an index column\n",
    "\n",
    "filtered_df['index'] = range(1, len(filtered_df) + 1)\n",
    "#filtered_df['index'] = filtered_df.index\n",
    "\n",
    "# Display the updated DataFrame\n",
    "#print(filtered_df.head())"
   ]
  },
  {
   "cell_type": "code",
   "execution_count": null,
   "id": "0476093f",
   "metadata": {},
   "outputs": [],
   "source": [
    "# create a source column\n",
    "filtered_df['Source'] = filtered_df.groupby(['Advisor Name']).ngroup()\n",
    "\n",
    "# Display the updated DataFrame\n",
    "print(filtered_df.head())"
   ]
  },
  {
   "cell_type": "code",
   "execution_count": null,
   "id": "0bfda856",
   "metadata": {},
   "outputs": [],
   "source": [
    "filtered_df = filtered_df.rename(columns={'Owner: Owner ID': 'owner_id', 'New_ID': 'Target'})"
   ]
  },
  {
   "cell_type": "code",
   "execution_count": null,
   "id": "f3f68c94",
   "metadata": {},
   "outputs": [],
   "source": [
    "filtered_df.info()"
   ]
  },
  {
   "cell_type": "code",
   "execution_count": null,
   "id": "e33a8f0b",
   "metadata": {},
   "outputs": [],
   "source": [
    "filtered_df['Source'] = filtered_df['Source'].map(str)\n",
    "filtered_df['Target'] = filtered_df['Target'].map(str)"
   ]
  },
  {
   "cell_type": "code",
   "execution_count": null,
   "id": "8bb7cae7",
   "metadata": {},
   "outputs": [],
   "source": [
    "# Add directions to d3\n",
    "filtered_df['Direction'] = filtered_df['Source'] + ' -> ' + filtered_df['Target']"
   ]
  },
  {
   "cell_type": "code",
   "execution_count": null,
   "id": "276b9e9e",
   "metadata": {},
   "outputs": [],
   "source": [
    "filtered_df.info()"
   ]
  },
  {
   "cell_type": "code",
   "execution_count": null,
   "id": "1a40d817",
   "metadata": {},
   "outputs": [],
   "source": [
    "# FOLLOWING KNIPPENBERG\n",
    "\n",
    "# Save the DataFrame to a CSV file\n",
    "\n",
    "filtered_df.to_csv('~/Documents/Trellis/Network_Analysis_Tableau/data/generated_from_knipp/py-filtered_df.csv', index=False)  # Set index=False to exclude the index from the CSV file\n"
   ]
  },
  {
   "cell_type": "code",
   "execution_count": null,
   "id": "57849b93",
   "metadata": {},
   "outputs": [],
   "source": [
    "#reduced_df = filtered_df.sample(n=300)"
   ]
  },
  {
   "cell_type": "code",
   "execution_count": null,
   "id": "ee0401cc",
   "metadata": {},
   "outputs": [],
   "source": [
    "arr_SrcTgt = np.array(filtered_df[['Source','Target']])"
   ]
  },
  {
   "cell_type": "code",
   "execution_count": null,
   "id": "dce653a4",
   "metadata": {},
   "outputs": [],
   "source": [
    "# Create Network Graph Coordinates...\n",
    "Q = nx.Graph()\n",
    "Q.add_edges_from(arr_SrcTgt)\n",
    "dict_Coords = nx.spring_layout(Q) \n",
    "\n",
    "#nx.draw(G, pos, with_labels=True, node_size=800, node_color=\"skyblue\", edge_color=\"gray\")\n",
    "plt.show(Q)"
   ]
  },
  {
   "cell_type": "code",
   "execution_count": null,
   "id": "acbfb035",
   "metadata": {},
   "outputs": [],
   "source": [
    "# Create Graph Coordinates File...\n",
    "df_Raw_Coords = DataFrame(dict_Coords)\n",
    "df_Raw_Coords = df_Raw_Coords.T\n",
    "df_Raw_Coords.columns = ['X','Y']\n",
    "df_Raw_Coords.to_csv('~/Documents/Trellis/Network_Analysis_Tableau/data/generated_from_knipp/CoordsFile.csv', index_label='NodeName')\n",
    "#print(df_Raw_Coords)"
   ]
  },
  {
   "cell_type": "code",
   "execution_count": null,
   "id": "32a0d609",
   "metadata": {},
   "outputs": [],
   "source": [
    "# Create Bridge File... \n",
    "# Tableau Code: IF [Src-Tgt]/2 = ROUND([Src-Tgt]/2) THEN 'Source' ELSE 'Target' END\n",
    "arr_SrcTgt2 = arr_SrcTgt.reshape(1,(len(arr_SrcTgt)*2)) \n",
    "arr_SrcTgt2 = arr_SrcTgt2.reshape(-1) \n",
    "df_SrcTgt = DataFrame(arr_SrcTgt2,columns=['NodeName']) \n",
    "arr_Index = []\n",
    "for i in range(1,(len(arr_SrcTgt)+1)):\n",
    "    arr_Index.append(i)\n",
    "    arr_Index.append(i)\n",
    "df_SrcTgt['c_Index'] = arr_Index \n",
    "\n",
    "df_SrcTgt.to_csv('~/Documents/Trellis/Network_Analysis_Tableau/data/generated_from_knipp/BridgeFile.csv',index_label='Src-Tgt')\n",
    "#print(df_ScrTgt.head())"
   ]
  },
  {
   "cell_type": "code",
   "execution_count": null,
   "id": "58073057",
   "metadata": {},
   "outputs": [],
   "source": [
    "print('Run Completed Successfully')"
   ]
  },
  {
   "cell_type": "code",
   "execution_count": null,
   "id": "44168ea7",
   "metadata": {},
   "outputs": [],
   "source": []
  },
  {
   "cell_type": "code",
   "execution_count": null,
   "id": "0e1825cc",
   "metadata": {},
   "outputs": [],
   "source": []
  }
 ],
 "metadata": {
  "kernelspec": {
   "display_name": "Python 3 (ipykernel)",
   "language": "python",
   "name": "python3"
  },
  "language_info": {
   "codemirror_mode": {
    "name": "ipython",
    "version": 3
   },
   "file_extension": ".py",
   "mimetype": "text/x-python",
   "name": "python",
   "nbconvert_exporter": "python",
   "pygments_lexer": "ipython3",
   "version": "3.9.13"
  }
 },
 "nbformat": 4,
 "nbformat_minor": 5
}
